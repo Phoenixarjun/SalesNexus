{
 "cells": [
  {
   "cell_type": "markdown",
   "id": "3c3ec77e",
   "metadata": {},
   "source": [
    "### 👋 **SalesNexus: Business Understanding**\n",
    "\n",
    "![SalesNexus Banner](bg.jpg)\n",
    "\n",
    "---\n",
    "\n",
    "## 🎯 Goal\n",
    "\n",
    "To **predict daily sales** for each item across stores, enabling:\n",
    "\n",
    "✅ **Dynamic Pricing** — Adjust pricing based on demand and promotions\n",
    "✅ **Inventory Optimization** — Reduce waste, prevent stockouts\n",
    "✅ **Better Profitability** — Minimize surplus, maximize sales efficiency\n",
    "\n",
    "---\n",
    "\n",
    "## 🧐 Why This Matters\n",
    "\n",
    "Modern retailers operate in highly competitive environments. Manual forecasting often fails to:\n",
    "\n",
    "* Anticipate **seasonal fluctuations** (holidays, promotions)\n",
    "* Respond to **regional differences** across stores\n",
    "* Adjust to **external influences** (economic changes, events)\n",
    "\n",
    "**Resulting Problems:**\n",
    "\n",
    "* Overstocking ➔ Increased waste and holding costs\n",
    "* Understocking ➔ Missed sales and dissatisfied customers\n",
    "* Suboptimal pricing ➔ Reduced margins and competitive disadvantage\n",
    "\n",
    "---\n",
    "\n",
    "## 💡 Objective\n",
    "\n",
    "Develop a robust sales forecasting system that predicts future sales per item, per store, and allows:\n",
    "\n",
    "* Automated, data-driven pricing adjustments\n",
    "* Smarter inventory planning\n",
    "* Insights into sales drivers (trend, seasonality, promotions)\n",
    "\n",
    "---\n",
    "\n",
    "## 🎯 Stakeholders\n",
    "\n",
    "* **Retail Chains**: Streamline supply chain and pricing strategies.\n",
    "* **Pricing Teams**: Identify revenue optimization opportunities.\n",
    "* **Store Operations**: Maintain optimal inventory levels.\n",
    "* **Customers**: Enjoy better availability and pricing.\n",
    "\n",
    "---\n",
    "\n",
    "## 📊 Evaluation Metrics\n",
    "\n",
    "* **RMSLE** (Root Mean Squared Logarithmic Error): Main metric for this Kaggle-style prediction.\n",
    "* **Additional metrics**: MAE (Mean Absolute Error), RMSE (Root Mean Squared Error) for deeper error analysis.\n",
    "\n",
    "---\n",
    "\n",
    "## 🚀 Impact\n",
    "\n",
    "* **Increase Profitability**: Minimize waste and surplus inventory.\n",
    "* **Optimize Operations**: Reduce storage and logistics costs.\n",
    "* **Better Experience**: Improve product availability and pricing precision for customers.\n",
    "\n",
    "---\n",
    "\n"
   ]
  },
  {
   "cell_type": "code",
   "execution_count": 1,
   "id": "61e6d136",
   "metadata": {},
   "outputs": [],
   "source": [
    "import os"
   ]
  },
  {
   "cell_type": "code",
   "execution_count": 2,
   "id": "677a5daf",
   "metadata": {},
   "outputs": [
    {
     "data": {
      "text/plain": [
       "'c:\\\\Arjun_Works\\\\SalesNexus\\\\research'"
      ]
     },
     "execution_count": 2,
     "metadata": {},
     "output_type": "execute_result"
    }
   ],
   "source": [
    "%pwd"
   ]
  },
  {
   "cell_type": "code",
   "execution_count": 3,
   "id": "bf8b9c03",
   "metadata": {},
   "outputs": [],
   "source": [
    "os.chdir('../')"
   ]
  },
  {
   "cell_type": "code",
   "execution_count": 4,
   "id": "1e461b40",
   "metadata": {},
   "outputs": [
    {
     "data": {
      "text/plain": [
       "'c:\\\\Arjun_Works\\\\SalesNexus'"
      ]
     },
     "execution_count": 4,
     "metadata": {},
     "output_type": "execute_result"
    }
   ],
   "source": [
    "%pwd"
   ]
  },
  {
   "cell_type": "code",
   "execution_count": 5,
   "id": "1fad52c5",
   "metadata": {},
   "outputs": [],
   "source": [
    "from dataclasses import dataclass\n",
    "from pathlib import Path\n",
    "\n",
    "@dataclass(frozen=True)\n",
    "class DataAcquisitionConfig:\n",
    "    \"\"\"Config for downloading the raw data from Kaggle using opendatasets.\"\"\"\n",
    "    root_dir: Path\n",
    "    source: str           \n",
    "    dataset_name: str     \n",
    "    local_dir: Path  "
   ]
  },
  {
   "cell_type": "code",
   "execution_count": 6,
   "id": "f7636772",
   "metadata": {},
   "outputs": [],
   "source": [
    "from dataclasses import dataclass\n",
    "from pathlib import Path\n",
    "\n",
    "@dataclass(frozen=True)\n",
    "class DataPreparationConfig:\n",
    "    root_dir: Path\n",
    "    raw_dir: Path\n",
    "    processed_dir: Path"
   ]
  },
  {
   "cell_type": "code",
   "execution_count": 7,
   "id": "07b319d7",
   "metadata": {},
   "outputs": [],
   "source": [
    "from ml_service.constants import *\n",
    "from ml_service.utils.main_utils import read_yaml, create_directories"
   ]
  },
  {
   "cell_type": "code",
   "execution_count": 8,
   "id": "6244124e",
   "metadata": {},
   "outputs": [],
   "source": [
    "from pathlib import Path\n",
    "from typing import Union\n",
    "\n",
    "\n",
    "\n",
    "class ConfigurationManager:\n",
    "    def __init__(self, config_filepath: str):\n",
    "        \"\"\"Initialize the configuration manager.\n",
    "\n",
    "        Args:\n",
    "            config_filepath (str): Path to the main configuration file (YAML).\n",
    "        \"\"\"\n",
    "        self.config = read_yaml(config_filepath)\n",
    "        create_directories([self.config.artifacts_root])\n",
    "\n",
    "    def get_data_acquisition_config(self) -> DataAcquisitionConfig:\n",
    "        \"\"\"Get the configuration for data acquisition.\n",
    "\n",
    "        Returns:\n",
    "            DataAcquisitionConfig: Path and source details for data acquisition.\n",
    "        \"\"\"\n",
    "        config = self.config.data_acquisition\n",
    "        create_directories([config.root_dir])\n",
    "        return DataAcquisitionConfig(\n",
    "            root_dir=Path(config.root_dir),\n",
    "            source=config.source,\n",
    "            dataset_name=config.dataset_name,\n",
    "            local_dir=Path(config.local_dir),\n",
    "        )\n",
    "    \n",
    "    def get_data_preparation_config(self) -> DataPreparationConfig:\n",
    "        \"\"\"Get the configuration for data preparation.\n",
    "\n",
    "        Returns:\n",
    "            DataPreparationConfig: Paths for raw and processed data.\n",
    "        \"\"\"\n",
    "        config = self.config.data_preparation\n",
    "        create_directories([config.root_dir, config.processed_dir])\n",
    "        return DataPreparationConfig(\n",
    "            root_dir=Path(config.root_dir),\n",
    "            raw_dir=Path(config.raw_dir),\n",
    "            processed_dir=Path(config.processed_dir),\n",
    "        )\n"
   ]
  },
  {
   "cell_type": "markdown",
   "id": "a2c19455",
   "metadata": {},
   "source": [
    "### Data Acquisition "
   ]
  },
  {
   "cell_type": "code",
   "execution_count": 9,
   "id": "50e2bc29",
   "metadata": {},
   "outputs": [
    {
     "data": {
      "text/plain": [
       "'c:\\\\Arjun_Works\\\\SalesNexus'"
      ]
     },
     "execution_count": 9,
     "metadata": {},
     "output_type": "execute_result"
    }
   ],
   "source": [
    "%pwd"
   ]
  },
  {
   "cell_type": "code",
   "execution_count": 10,
   "id": "d3b5f129",
   "metadata": {},
   "outputs": [
    {
     "name": "stdout",
     "output_type": "stream",
     "text": [
      "[2025-06-23 01:11:43,817: INFO: 306878826: Current working directory: c:\\Arjun_Works\\SalesNexus]\n"
     ]
    }
   ],
   "source": [
    "from ml_service.logging import logger\n",
    "\n",
    "logger.info(f\"Current working directory: {Path.cwd()}\")"
   ]
  },
  {
   "cell_type": "code",
   "execution_count": 11,
   "id": "6eeae7e4",
   "metadata": {},
   "outputs": [
    {
     "name": "stdout",
     "output_type": "stream",
     "text": [
      "[2025-06-23 01:11:43,831: INFO: 2496926333: Some message]\n"
     ]
    }
   ],
   "source": [
    "from ml_service.logging import logger\n",
    "\n",
    "logger.info(\"Some message\")"
   ]
  },
  {
   "cell_type": "code",
   "execution_count": 16,
   "id": "d3475ad5",
   "metadata": {},
   "outputs": [
    {
     "name": "stdout",
     "output_type": "stream",
     "text": [
      "[2025-06-23 01:15:40,564: INFO: main_utils: yaml file: config\\config.yaml loaded successfully]\n",
      "[2025-06-23 01:15:40,566: INFO: main_utils: created directory at: artifacts]\n",
      "[2025-06-23 01:15:40,568: INFO: main_utils: created directory at: artifacts/data_acquisition]\n",
      "Please provide your Kaggle credentials to download this dataset. Learn more: http://bit.ly/kaggle-creds\n",
      "Your Kaggle username:Your Kaggle Key:Downloading store-sales-time-series-forecasting.zip to artifacts\\data_acquisition\\store-sales-time-series-forecasting\n"
     ]
    },
    {
     "name": "stderr",
     "output_type": "stream",
     "text": [
      "100%|██████████| 21.4M/21.4M [00:00<00:00, 723MB/s]"
     ]
    },
    {
     "name": "stdout",
     "output_type": "stream",
     "text": [
      "\n",
      "Extracting archive artifacts\\data_acquisition\\store-sales-time-series-forecasting/store-sales-time-series-forecasting.zip to artifacts\\data_acquisition\\store-sales-time-series-forecasting\n"
     ]
    },
    {
     "name": "stderr",
     "output_type": "stream",
     "text": [
      "\n"
     ]
    }
   ],
   "source": [
    "import opendatasets as od\n",
    "\n",
    "\n",
    "# Load configuration\n",
    "config_manager = ConfigurationManager(CONFIG_FILE_PATH)\n",
    "data_acquisition_config = config_manager.get_data_acquisition_config()\n",
    "\n",
    "# Download dataset from Kaggle\n",
    "od.download(data_acquisition_config.source, data_acquisition_config.root_dir)"
   ]
  }
 ],
 "metadata": {
  "kernelspec": {
   "display_name": "chest-cancer-detection",
   "language": "python",
   "name": "python3"
  },
  "language_info": {
   "codemirror_mode": {
    "name": "ipython",
    "version": 3
   },
   "file_extension": ".py",
   "mimetype": "text/x-python",
   "name": "python",
   "nbconvert_exporter": "python",
   "pygments_lexer": "ipython3",
   "version": "3.10.18"
  }
 },
 "nbformat": 4,
 "nbformat_minor": 5
}
