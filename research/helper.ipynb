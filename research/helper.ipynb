{
 "cells": [
  {
   "cell_type": "code",
   "execution_count": 1,
   "id": "640aadb9",
   "metadata": {},
   "outputs": [
    {
     "data": {
      "text/plain": [
       "'c:\\\\Arjun_Works\\\\SalesNexus'"
      ]
     },
     "execution_count": 1,
     "metadata": {},
     "output_type": "execute_result"
    }
   ],
   "source": [
    "import os\n",
    "\n",
    "os.chdir(\"../\")\n",
    "\n",
    "%pwd"
   ]
  },
  {
   "cell_type": "code",
   "execution_count": 2,
   "id": "ac0dc982",
   "metadata": {},
   "outputs": [],
   "source": [
    "import pandas as pd\n",
    "\n",
    "train_df = pd.read_csv(\"train_final.csv\")\n",
    "test_df = pd.read_csv(\"test_final.csv\")"
   ]
  },
  {
   "cell_type": "code",
   "execution_count": 3,
   "id": "324d31d2",
   "metadata": {},
   "outputs": [],
   "source": [
    "train_df[\"transactions\"] = train_df[\"transactions\"].fillna(0)  \n",
    "test_df[\"transactions\"] = test_df[\"transactions\"].fillna(0)"
   ]
  },
  {
   "cell_type": "code",
   "execution_count": 4,
   "id": "6bd40c95",
   "metadata": {},
   "outputs": [
    {
     "data": {
      "text/plain": [
       "(Index(['id', 'date', 'store_nbr', 'family', 'sales', 'onpromotion', 'city',\n",
       "        'state', 'type_x', 'cluster', 'transactions', 'dcoilwtico', 'type_y'],\n",
       "       dtype='object'),\n",
       " Index(['id', 'date', 'store_nbr', 'family', 'onpromotion', 'city', 'state',\n",
       "        'type_x', 'cluster', 'transactions', 'dcoilwtico', 'type_y'],\n",
       "       dtype='object'))"
      ]
     },
     "execution_count": 4,
     "metadata": {},
     "output_type": "execute_result"
    }
   ],
   "source": [
    "train_df.columns, test_df.columns"
   ]
  },
  {
   "cell_type": "code",
   "execution_count": 5,
   "id": "5955db1f",
   "metadata": {},
   "outputs": [
    {
     "data": {
      "text/plain": [
       "((3013362, 13), (28512, 12))"
      ]
     },
     "execution_count": 5,
     "metadata": {},
     "output_type": "execute_result"
    }
   ],
   "source": [
    "train_df.shape, test_df.shape"
   ]
  },
  {
   "cell_type": "code",
   "execution_count": 6,
   "id": "5d2b99b7",
   "metadata": {},
   "outputs": [
    {
     "name": "stderr",
     "output_type": "stream",
     "text": [
      "C:\\Users\\phoen\\AppData\\Local\\Temp\\ipykernel_20608\\2870418841.py:47: SettingWithCopyWarning: \n",
      "A value is trying to be set on a copy of a slice from a DataFrame.\n",
      "Try using .loc[row_indexer,col_indexer] = value instead\n",
      "\n",
      "See the caveats in the documentation: https://pandas.pydata.org/pandas-docs/stable/user_guide/indexing.html#returning-a-view-versus-a-copy\n",
      "  train_features[scale_cols] = scaler.fit_transform(train_features[scale_cols])\n"
     ]
    },
    {
     "name": "stdout",
     "output_type": "stream",
     "text": [
      "✅ Training Evaluation:\n",
      "RMSE: 209.7993\n",
      "MAE : 60.9279\n",
      "R2  : 0.9640\n",
      "RMSLE: 1.5052\n"
     ]
    },
    {
     "name": "stderr",
     "output_type": "stream",
     "text": [
      "C:\\Users\\phoen\\AppData\\Local\\Temp\\ipykernel_20608\\2870418841.py:78: RuntimeWarning: invalid value encountered in log1p\n",
      "  rmsle = np.sqrt(np.mean((np.log1p(y_train) - np.log1p(y_pred)) ** 2))\n"
     ]
    }
   ],
   "source": [
    "import pandas as pd\n",
    "import numpy as np\n",
    "import joblib\n",
    "from sklearn.preprocessing import MinMaxScaler\n",
    "from sklearn.metrics import mean_squared_error, mean_absolute_error, r2_score\n",
    "from xgboost import XGBRegressor\n",
    "\n",
    "\n",
    "# Fill missing values\n",
    "train_df[\"transactions\"] = train_df[\"transactions\"].fillna(0)\n",
    "test_df[\"transactions\"] = test_df[\"transactions\"].fillna(0)\n",
    "train_df[\"type_y\"] = train_df[\"type_y\"].fillna(\"Regular Day\")\n",
    "test_df[\"type_y\"] = test_df[\"type_y\"].fillna(\"Regular Day\")\n",
    "train_df[\"dcoilwtico\"] = train_df[\"dcoilwtico\"].bfill()\n",
    "test_df[\"dcoilwtico\"] = test_df[\"dcoilwtico\"].bfill()\n",
    "\n",
    "# Parse date and extract features\n",
    "for df in [train_df, test_df]:\n",
    "    df[\"date\"] = pd.to_datetime(df[\"date\"])\n",
    "    df[\"year\"] = df[\"date\"].dt.year\n",
    "    df[\"month\"] = df[\"date\"].dt.month\n",
    "    df[\"day\"] = df[\"date\"].dt.day\n",
    "    df[\"day_of_week\"] = df[\"date\"].dt.dayofweek\n",
    "    df[\"is_weekend\"] = (df[\"day_of_week\"] >= 5).astype(int)\n",
    "    df[\"day_of_year\"] = df[\"date\"].dt.dayofyear\n",
    "    df[\"is_month_start\"] = df[\"date\"].dt.is_month_start.astype(int)\n",
    "    df[\"is_month_end\"] = df[\"date\"].dt.is_month_end.astype(int)\n",
    "\n",
    "# Interactions\n",
    "train_df[\"onpromotion_trend\"] = train_df[\"onpromotion\"] * train_df[\"day_of_year\"]\n",
    "test_df[\"onpromotion_trend\"] = test_df[\"onpromotion\"] * test_df[\"day_of_year\"]\n",
    "train_df[\"month_sales_interaction\"] = train_df[\"month\"] * train_df[\"sales\"]\n",
    "\n",
    "# One-hot encode\n",
    "cat_cols = [\"family\", \"state\", \"city\", \"type_x\", \"type_y\"]\n",
    "train_df = pd.get_dummies(train_df, columns=cat_cols, drop_first=True, dtype=int)\n",
    "test_df = pd.get_dummies(test_df, columns=cat_cols, drop_first=True, dtype=int)\n",
    "\n",
    "# Align columns\n",
    "common_cols = set(train_df.columns) & set(test_df.columns)\n",
    "train_features = train_df[list(common_cols) + [\"sales\"]]\n",
    "test_features = test_df[list(common_cols)]\n",
    "\n",
    "# Scale selected features\n",
    "scale_cols = [\"onpromotion\", \"transactions\", \"dcoilwtico\", \"onpromotion_trend\"]\n",
    "scaler = MinMaxScaler()\n",
    "train_features[scale_cols] = scaler.fit_transform(train_features[scale_cols])\n",
    "test_features[scale_cols] = scaler.transform(test_features[scale_cols])\n",
    "\n",
    "# Drop non-numeric columns\n",
    "train_features = train_features.select_dtypes(include=[np.number])\n",
    "test_features = test_features.select_dtypes(include=[np.number])\n",
    "\n",
    "# Train model\n",
    "X_train = train_features.drop(\"sales\", axis=1)\n",
    "y_train = train_features[\"sales\"]\n",
    "# {'subsample': 0.8, 'reg_lambda': 2, 'reg_alpha': 0.1, 'n_estimators': 500, 'max_depth': 7, 'learning_rate': 0.05, 'gamma': 0, 'colsample_bytree': 0.6}\n",
    "\n",
    "model = XGBRegressor(n_estimators=500, \n",
    "                     learning_rate=0.05, \n",
    "                     max_depth=7, \n",
    "                     subsample=0.8, \n",
    "                     colsample_bytree=0.6, \n",
    "                     reg_alpha=0.1, \n",
    "                     reg_lambda=2, \n",
    "                     gamma=0, \n",
    "                     random_state=42)\n",
    "\n",
    "model.fit(X_train, y_train)\n",
    "\n",
    "# Evaluate on train (no val split here)\n",
    "y_pred = model.predict(X_train)\n",
    "rmse = np.sqrt(mean_squared_error(y_train, y_pred))\n",
    "mae = mean_absolute_error(y_train, y_pred)\n",
    "r2 = r2_score(y_train, y_pred)\n",
    "\n",
    "# 👇 RMSLE Evaluation\n",
    "rmsle = np.sqrt(np.mean((np.log1p(y_train) - np.log1p(y_pred)) ** 2))\n",
    "\n",
    "print(\"✅ Training Evaluation:\")\n",
    "print(f\"RMSE: {rmse:.4f}\")\n",
    "print(f\"MAE : {mae:.4f}\")\n",
    "print(f\"R2  : {r2:.4f}\")\n",
    "print(f\"RMSLE: {rmsle:.4f}\")"
   ]
  },
  {
   "cell_type": "code",
   "execution_count": 11,
   "id": "492f7e21",
   "metadata": {},
   "outputs": [
    {
     "name": "stdout",
     "output_type": "stream",
     "text": [
      "✅ CatBoost Training Evaluation:\n",
      "RMSE: 253.4910\n",
      "MAE : 72.7220\n",
      "R2  : 0.9474\n",
      "RMSLE: 1.6468\n"
     ]
    },
    {
     "name": "stderr",
     "output_type": "stream",
     "text": [
      "C:\\Users\\phoen\\AppData\\Local\\Temp\\ipykernel_20608\\1758437876.py:22: RuntimeWarning: invalid value encountered in log1p\n",
      "  rmsle_cb = np.sqrt(np.mean((np.log1p(y_train) - np.log1p(y_pred_cb)) ** 2))\n"
     ]
    }
   ],
   "source": [
    "from catboost import CatBoostRegressor\n",
    "\n",
    "# Train CatBoost model with similar hyperparameters\n",
    "catboost_model = CatBoostRegressor(\n",
    "  iterations=1000,\n",
    "  learning_rate=0.05,\n",
    "  depth=7,\n",
    "  subsample=0.8,\n",
    "  colsample_bylevel=0.6,\n",
    "  reg_lambda=2,\n",
    "  random_seed=42,\n",
    "  verbose=0\n",
    ")\n",
    "\n",
    "catboost_model.fit(X_train, y_train)\n",
    "\n",
    "# Evaluate on train set\n",
    "y_pred_cb = catboost_model.predict(X_train)\n",
    "rmse_cb = np.sqrt(mean_squared_error(y_train, y_pred_cb))\n",
    "mae_cb = mean_absolute_error(y_train, y_pred_cb)\n",
    "r2_cb = r2_score(y_train, y_pred_cb)\n",
    "rmsle_cb = np.sqrt(np.mean((np.log1p(y_train) - np.log1p(y_pred_cb)) ** 2))\n",
    "\n",
    "print(\"✅ CatBoost Training Evaluation:\")\n",
    "print(f\"RMSE: {rmse_cb:.4f}\")\n",
    "print(f\"MAE : {mae_cb:.4f}\")\n",
    "print(f\"R2  : {r2_cb:.4f}\")\n",
    "print(f\"RMSLE: {rmsle_cb:.4f}\")"
   ]
  },
  {
   "cell_type": "code",
   "execution_count": 12,
   "id": "07dc16ce",
   "metadata": {},
   "outputs": [
    {
     "name": "stdout",
     "output_type": "stream",
     "text": [
      "✅ submission.csv saved successfully!\n"
     ]
    }
   ],
   "source": [
    "# Predict on test set\n",
    "test_df[\"sales\"] = catboost_model.predict(test_features)\n",
    "\n",
    "# Ensure no negative predictions\n",
    "test_df[\"sales\"] = test_df[\"sales\"].clip(lower=0)\n",
    "\n",
    "# Prepare submission\n",
    "submission = test_df[[\"id\", \"sales\"]].copy()\n",
    "submission.to_csv(\"submission.csv\", index=False)\n",
    "print(\"✅ submission.csv saved successfully!\")\n"
   ]
  },
  {
   "cell_type": "code",
   "execution_count": 8,
   "id": "fb75ce95",
   "metadata": {},
   "outputs": [],
   "source": [
    "from sklearn.model_selection import RandomizedSearchCV\n",
    "from xgboost import XGBRegressor\n",
    "\n",
    "def get_best_hyperparameters(X, y, n_iter=30, cv=3, random_state=42, verbose=1):\n",
    "    \"\"\"Performs hyperparameter tuning using RandomizedSearchCV for XGBRegressor.\"\"\"\n",
    "    \n",
    "    param_dist = {\n",
    "        \"n_estimators\": [100, 300, 500, 700],\n",
    "        \"learning_rate\": [0.01, 0.05, 0.1, 0.2],\n",
    "        \"max_depth\": [3, 5, 7, 10],\n",
    "        \"subsample\": [0.6, 0.8, 1.0],\n",
    "        \"colsample_bytree\": [0.6, 0.8, 1.0],\n",
    "        \"gamma\": [0, 0.1, 0.3, 0.5],\n",
    "        \"reg_alpha\": [0, 0.1, 0.5],\n",
    "        \"reg_lambda\": [1, 1.5, 2]\n",
    "    }\n",
    "\n",
    "    xgb = XGBRegressor(objective=\"reg:squarederror\", random_state=random_state)\n",
    "\n",
    "    random_search = RandomizedSearchCV(\n",
    "        estimator=xgb,\n",
    "        param_distributions=param_dist,\n",
    "        n_iter=n_iter,\n",
    "        cv=cv,\n",
    "        verbose=verbose,\n",
    "        n_jobs=-1,\n",
    "        scoring='neg_root_mean_squared_error'\n",
    "    )\n",
    "\n",
    "    print(\"🔍 Searching for best hyperparameters...\")\n",
    "    random_search.fit(X, y)\n",
    "    print(\"✅ Best Hyperparameters Found!\")\n",
    "    print(random_search.best_params_)\n",
    "\n",
    "    return random_search.best_estimator_, random_search.best_params_\n"
   ]
  },
  {
   "cell_type": "code",
   "execution_count": 9,
   "id": "a67a2c0c",
   "metadata": {},
   "outputs": [
    {
     "name": "stdout",
     "output_type": "stream",
     "text": [
      "🔍 Searching for best hyperparameters...\n",
      "Fitting 3 folds for each of 30 candidates, totalling 90 fits\n"
     ]
    },
    {
     "name": "stderr",
     "output_type": "stream",
     "text": [
      "c:\\Users\\phoen\\anaconda3\\envs\\chest-cancer-detection\\lib\\site-packages\\sklearn\\model_selection\\_validation.py:516: FitFailedWarning: \n",
      "8 fits failed out of a total of 90.\n",
      "The score on these train-test partitions for these parameters will be set to nan.\n",
      "If these failures are not expected, you can try to debug them by setting error_score='raise'.\n",
      "\n",
      "Below are more details about the failures:\n",
      "--------------------------------------------------------------------------------\n",
      "3 fits failed with the following error:\n",
      "Traceback (most recent call last):\n",
      "  File \"c:\\Users\\phoen\\anaconda3\\envs\\chest-cancer-detection\\lib\\site-packages\\sklearn\\model_selection\\_validation.py\", line 859, in _fit_and_score\n",
      "    estimator.fit(X_train, y_train, **fit_params)\n",
      "  File \"c:\\Users\\phoen\\anaconda3\\envs\\chest-cancer-detection\\lib\\site-packages\\xgboost\\core.py\", line 729, in inner_f\n",
      "    return func(**kwargs)\n",
      "  File \"c:\\Users\\phoen\\anaconda3\\envs\\chest-cancer-detection\\lib\\site-packages\\xgboost\\sklearn.py\", line 1222, in fit\n",
      "    train_dmatrix, evals = _wrap_evaluation_matrices(\n",
      "  File \"c:\\Users\\phoen\\anaconda3\\envs\\chest-cancer-detection\\lib\\site-packages\\xgboost\\sklearn.py\", line 628, in _wrap_evaluation_matrices\n",
      "    train_dmatrix = create_dmatrix(\n",
      "  File \"c:\\Users\\phoen\\anaconda3\\envs\\chest-cancer-detection\\lib\\site-packages\\xgboost\\sklearn.py\", line 1137, in _create_dmatrix\n",
      "    return QuantileDMatrix(\n",
      "  File \"c:\\Users\\phoen\\anaconda3\\envs\\chest-cancer-detection\\lib\\site-packages\\xgboost\\core.py\", line 729, in inner_f\n",
      "    return func(**kwargs)\n",
      "  File \"c:\\Users\\phoen\\anaconda3\\envs\\chest-cancer-detection\\lib\\site-packages\\xgboost\\core.py\", line 1614, in __init__\n",
      "    self._init(\n",
      "  File \"c:\\Users\\phoen\\anaconda3\\envs\\chest-cancer-detection\\lib\\site-packages\\xgboost\\core.py\", line 1678, in _init\n",
      "    it.reraise()\n",
      "  File \"c:\\Users\\phoen\\anaconda3\\envs\\chest-cancer-detection\\lib\\site-packages\\xgboost\\core.py\", line 572, in reraise\n",
      "    raise exc  # pylint: disable=raising-bad-type\n",
      "  File \"c:\\Users\\phoen\\anaconda3\\envs\\chest-cancer-detection\\lib\\site-packages\\xgboost\\core.py\", line 553, in _handle_exception\n",
      "    return fn()\n",
      "  File \"c:\\Users\\phoen\\anaconda3\\envs\\chest-cancer-detection\\lib\\site-packages\\xgboost\\core.py\", line 640, in <lambda>\n",
      "    return self._handle_exception(lambda: int(self.next(input_data)), 0)\n",
      "  File \"c:\\Users\\phoen\\anaconda3\\envs\\chest-cancer-detection\\lib\\site-packages\\xgboost\\data.py\", line 1654, in next\n",
      "    input_data(**self.kwargs)\n",
      "  File \"c:\\Users\\phoen\\anaconda3\\envs\\chest-cancer-detection\\lib\\site-packages\\xgboost\\core.py\", line 729, in inner_f\n",
      "    return func(**kwargs)\n",
      "  File \"c:\\Users\\phoen\\anaconda3\\envs\\chest-cancer-detection\\lib\\site-packages\\xgboost\\core.py\", line 629, in input_data\n",
      "    self.proxy.set_info(\n",
      "  File \"c:\\Users\\phoen\\anaconda3\\envs\\chest-cancer-detection\\lib\\site-packages\\xgboost\\core.py\", line 729, in inner_f\n",
      "    return func(**kwargs)\n",
      "  File \"c:\\Users\\phoen\\anaconda3\\envs\\chest-cancer-detection\\lib\\site-packages\\xgboost\\core.py\", line 961, in set_info\n",
      "    self.set_label(label)\n",
      "  File \"c:\\Users\\phoen\\anaconda3\\envs\\chest-cancer-detection\\lib\\site-packages\\xgboost\\core.py\", line 1099, in set_label\n",
      "    dispatch_meta_backend(self, label, \"label\", \"float\")\n",
      "  File \"c:\\Users\\phoen\\anaconda3\\envs\\chest-cancer-detection\\lib\\site-packages\\xgboost\\data.py\", line 1603, in dispatch_meta_backend\n",
      "    _meta_from_pandas_series(data, name, dtype, handle)\n",
      "  File \"c:\\Users\\phoen\\anaconda3\\envs\\chest-cancer-detection\\lib\\site-packages\\xgboost\\data.py\", line 713, in _meta_from_pandas_series\n",
      "    _meta_from_numpy(data, name, dtype, handle)\n",
      "  File \"c:\\Users\\phoen\\anaconda3\\envs\\chest-cancer-detection\\lib\\site-packages\\xgboost\\data.py\", line 1533, in _meta_from_numpy\n",
      "    _check_call(_LIB.XGDMatrixSetInfoFromInterface(handle, c_str(field), interface_str))\n",
      "  File \"c:\\Users\\phoen\\anaconda3\\envs\\chest-cancer-detection\\lib\\site-packages\\xgboost\\core.py\", line 310, in _check_call\n",
      "    raise XGBoostError(py_str(_LIB.XGBGetLastError()))\n",
      "xgboost.core.XGBoostError: [17:32:18] C:\\actions-runner\\_work\\xgboost\\xgboost\\src\\data\\array_interface.cu:44: Check failed: err == cudaGetLastError() (0 vs. 46) : \n",
      "\n",
      "--------------------------------------------------------------------------------\n",
      "2 fits failed with the following error:\n",
      "Traceback (most recent call last):\n",
      "  File \"c:\\Users\\phoen\\anaconda3\\envs\\chest-cancer-detection\\lib\\site-packages\\sklearn\\model_selection\\_validation.py\", line 859, in _fit_and_score\n",
      "    estimator.fit(X_train, y_train, **fit_params)\n",
      "  File \"c:\\Users\\phoen\\anaconda3\\envs\\chest-cancer-detection\\lib\\site-packages\\xgboost\\core.py\", line 729, in inner_f\n",
      "    return func(**kwargs)\n",
      "  File \"c:\\Users\\phoen\\anaconda3\\envs\\chest-cancer-detection\\lib\\site-packages\\xgboost\\sklearn.py\", line 1222, in fit\n",
      "    train_dmatrix, evals = _wrap_evaluation_matrices(\n",
      "  File \"c:\\Users\\phoen\\anaconda3\\envs\\chest-cancer-detection\\lib\\site-packages\\xgboost\\sklearn.py\", line 628, in _wrap_evaluation_matrices\n",
      "    train_dmatrix = create_dmatrix(\n",
      "  File \"c:\\Users\\phoen\\anaconda3\\envs\\chest-cancer-detection\\lib\\site-packages\\xgboost\\sklearn.py\", line 1137, in _create_dmatrix\n",
      "    return QuantileDMatrix(\n",
      "  File \"c:\\Users\\phoen\\anaconda3\\envs\\chest-cancer-detection\\lib\\site-packages\\xgboost\\core.py\", line 729, in inner_f\n",
      "    return func(**kwargs)\n",
      "  File \"c:\\Users\\phoen\\anaconda3\\envs\\chest-cancer-detection\\lib\\site-packages\\xgboost\\core.py\", line 1614, in __init__\n",
      "    self._init(\n",
      "  File \"c:\\Users\\phoen\\anaconda3\\envs\\chest-cancer-detection\\lib\\site-packages\\xgboost\\core.py\", line 1678, in _init\n",
      "    it.reraise()\n",
      "  File \"c:\\Users\\phoen\\anaconda3\\envs\\chest-cancer-detection\\lib\\site-packages\\xgboost\\core.py\", line 572, in reraise\n",
      "    raise exc  # pylint: disable=raising-bad-type\n",
      "  File \"c:\\Users\\phoen\\anaconda3\\envs\\chest-cancer-detection\\lib\\site-packages\\xgboost\\core.py\", line 553, in _handle_exception\n",
      "    return fn()\n",
      "  File \"c:\\Users\\phoen\\anaconda3\\envs\\chest-cancer-detection\\lib\\site-packages\\xgboost\\core.py\", line 640, in <lambda>\n",
      "    return self._handle_exception(lambda: int(self.next(input_data)), 0)\n",
      "  File \"c:\\Users\\phoen\\anaconda3\\envs\\chest-cancer-detection\\lib\\site-packages\\xgboost\\data.py\", line 1654, in next\n",
      "    input_data(**self.kwargs)\n",
      "  File \"c:\\Users\\phoen\\anaconda3\\envs\\chest-cancer-detection\\lib\\site-packages\\xgboost\\core.py\", line 729, in inner_f\n",
      "    return func(**kwargs)\n",
      "  File \"c:\\Users\\phoen\\anaconda3\\envs\\chest-cancer-detection\\lib\\site-packages\\xgboost\\core.py\", line 629, in input_data\n",
      "    self.proxy.set_info(\n",
      "  File \"c:\\Users\\phoen\\anaconda3\\envs\\chest-cancer-detection\\lib\\site-packages\\xgboost\\core.py\", line 729, in inner_f\n",
      "    return func(**kwargs)\n",
      "  File \"c:\\Users\\phoen\\anaconda3\\envs\\chest-cancer-detection\\lib\\site-packages\\xgboost\\core.py\", line 961, in set_info\n",
      "    self.set_label(label)\n",
      "  File \"c:\\Users\\phoen\\anaconda3\\envs\\chest-cancer-detection\\lib\\site-packages\\xgboost\\core.py\", line 1099, in set_label\n",
      "    dispatch_meta_backend(self, label, \"label\", \"float\")\n",
      "  File \"c:\\Users\\phoen\\anaconda3\\envs\\chest-cancer-detection\\lib\\site-packages\\xgboost\\data.py\", line 1603, in dispatch_meta_backend\n",
      "    _meta_from_pandas_series(data, name, dtype, handle)\n",
      "  File \"c:\\Users\\phoen\\anaconda3\\envs\\chest-cancer-detection\\lib\\site-packages\\xgboost\\data.py\", line 713, in _meta_from_pandas_series\n",
      "    _meta_from_numpy(data, name, dtype, handle)\n",
      "  File \"c:\\Users\\phoen\\anaconda3\\envs\\chest-cancer-detection\\lib\\site-packages\\xgboost\\data.py\", line 1533, in _meta_from_numpy\n",
      "    _check_call(_LIB.XGDMatrixSetInfoFromInterface(handle, c_str(field), interface_str))\n",
      "  File \"c:\\Users\\phoen\\anaconda3\\envs\\chest-cancer-detection\\lib\\site-packages\\xgboost\\core.py\", line 310, in _check_call\n",
      "    raise XGBoostError(py_str(_LIB.XGBGetLastError()))\n",
      "xgboost.core.XGBoostError: [17:32:17] C:\\actions-runner\\_work\\xgboost\\xgboost\\src\\data\\array_interface.cu:44: Check failed: err == cudaGetLastError() (0 vs. 46) : \n",
      "\n",
      "--------------------------------------------------------------------------------\n",
      "1 fits failed with the following error:\n",
      "Traceback (most recent call last):\n",
      "  File \"c:\\Users\\phoen\\anaconda3\\envs\\chest-cancer-detection\\lib\\site-packages\\sklearn\\model_selection\\_validation.py\", line 859, in _fit_and_score\n",
      "    estimator.fit(X_train, y_train, **fit_params)\n",
      "  File \"c:\\Users\\phoen\\anaconda3\\envs\\chest-cancer-detection\\lib\\site-packages\\xgboost\\core.py\", line 729, in inner_f\n",
      "    return func(**kwargs)\n",
      "  File \"c:\\Users\\phoen\\anaconda3\\envs\\chest-cancer-detection\\lib\\site-packages\\xgboost\\sklearn.py\", line 1222, in fit\n",
      "    train_dmatrix, evals = _wrap_evaluation_matrices(\n",
      "  File \"c:\\Users\\phoen\\anaconda3\\envs\\chest-cancer-detection\\lib\\site-packages\\xgboost\\sklearn.py\", line 628, in _wrap_evaluation_matrices\n",
      "    train_dmatrix = create_dmatrix(\n",
      "  File \"c:\\Users\\phoen\\anaconda3\\envs\\chest-cancer-detection\\lib\\site-packages\\xgboost\\sklearn.py\", line 1137, in _create_dmatrix\n",
      "    return QuantileDMatrix(\n",
      "  File \"c:\\Users\\phoen\\anaconda3\\envs\\chest-cancer-detection\\lib\\site-packages\\xgboost\\core.py\", line 729, in inner_f\n",
      "    return func(**kwargs)\n",
      "  File \"c:\\Users\\phoen\\anaconda3\\envs\\chest-cancer-detection\\lib\\site-packages\\xgboost\\core.py\", line 1614, in __init__\n",
      "    self._init(\n",
      "  File \"c:\\Users\\phoen\\anaconda3\\envs\\chest-cancer-detection\\lib\\site-packages\\xgboost\\core.py\", line 1678, in _init\n",
      "    it.reraise()\n",
      "  File \"c:\\Users\\phoen\\anaconda3\\envs\\chest-cancer-detection\\lib\\site-packages\\xgboost\\core.py\", line 572, in reraise\n",
      "    raise exc  # pylint: disable=raising-bad-type\n",
      "  File \"c:\\Users\\phoen\\anaconda3\\envs\\chest-cancer-detection\\lib\\site-packages\\xgboost\\core.py\", line 553, in _handle_exception\n",
      "    return fn()\n",
      "  File \"c:\\Users\\phoen\\anaconda3\\envs\\chest-cancer-detection\\lib\\site-packages\\xgboost\\core.py\", line 640, in <lambda>\n",
      "    return self._handle_exception(lambda: int(self.next(input_data)), 0)\n",
      "  File \"c:\\Users\\phoen\\anaconda3\\envs\\chest-cancer-detection\\lib\\site-packages\\xgboost\\data.py\", line 1654, in next\n",
      "    input_data(**self.kwargs)\n",
      "  File \"c:\\Users\\phoen\\anaconda3\\envs\\chest-cancer-detection\\lib\\site-packages\\xgboost\\core.py\", line 729, in inner_f\n",
      "    return func(**kwargs)\n",
      "  File \"c:\\Users\\phoen\\anaconda3\\envs\\chest-cancer-detection\\lib\\site-packages\\xgboost\\core.py\", line 629, in input_data\n",
      "    self.proxy.set_info(\n",
      "  File \"c:\\Users\\phoen\\anaconda3\\envs\\chest-cancer-detection\\lib\\site-packages\\xgboost\\core.py\", line 729, in inner_f\n",
      "    return func(**kwargs)\n",
      "  File \"c:\\Users\\phoen\\anaconda3\\envs\\chest-cancer-detection\\lib\\site-packages\\xgboost\\core.py\", line 961, in set_info\n",
      "    self.set_label(label)\n",
      "  File \"c:\\Users\\phoen\\anaconda3\\envs\\chest-cancer-detection\\lib\\site-packages\\xgboost\\core.py\", line 1099, in set_label\n",
      "    dispatch_meta_backend(self, label, \"label\", \"float\")\n",
      "  File \"c:\\Users\\phoen\\anaconda3\\envs\\chest-cancer-detection\\lib\\site-packages\\xgboost\\data.py\", line 1603, in dispatch_meta_backend\n",
      "    _meta_from_pandas_series(data, name, dtype, handle)\n",
      "  File \"c:\\Users\\phoen\\anaconda3\\envs\\chest-cancer-detection\\lib\\site-packages\\xgboost\\data.py\", line 713, in _meta_from_pandas_series\n",
      "    _meta_from_numpy(data, name, dtype, handle)\n",
      "  File \"c:\\Users\\phoen\\anaconda3\\envs\\chest-cancer-detection\\lib\\site-packages\\xgboost\\data.py\", line 1533, in _meta_from_numpy\n",
      "    _check_call(_LIB.XGDMatrixSetInfoFromInterface(handle, c_str(field), interface_str))\n",
      "  File \"c:\\Users\\phoen\\anaconda3\\envs\\chest-cancer-detection\\lib\\site-packages\\xgboost\\core.py\", line 310, in _check_call\n",
      "    raise XGBoostError(py_str(_LIB.XGBGetLastError()))\n",
      "xgboost.core.XGBoostError: [17:32:19] C:\\actions-runner\\_work\\xgboost\\xgboost\\src\\data\\array_interface.cu:44: Check failed: err == cudaGetLastError() (0 vs. 46) : \n",
      "\n",
      "--------------------------------------------------------------------------------\n",
      "2 fits failed with the following error:\n",
      "Traceback (most recent call last):\n",
      "  File \"c:\\Users\\phoen\\anaconda3\\envs\\chest-cancer-detection\\lib\\site-packages\\sklearn\\model_selection\\_validation.py\", line 859, in _fit_and_score\n",
      "    estimator.fit(X_train, y_train, **fit_params)\n",
      "  File \"c:\\Users\\phoen\\anaconda3\\envs\\chest-cancer-detection\\lib\\site-packages\\xgboost\\core.py\", line 729, in inner_f\n",
      "    return func(**kwargs)\n",
      "  File \"c:\\Users\\phoen\\anaconda3\\envs\\chest-cancer-detection\\lib\\site-packages\\xgboost\\sklearn.py\", line 1222, in fit\n",
      "    train_dmatrix, evals = _wrap_evaluation_matrices(\n",
      "  File \"c:\\Users\\phoen\\anaconda3\\envs\\chest-cancer-detection\\lib\\site-packages\\xgboost\\sklearn.py\", line 628, in _wrap_evaluation_matrices\n",
      "    train_dmatrix = create_dmatrix(\n",
      "  File \"c:\\Users\\phoen\\anaconda3\\envs\\chest-cancer-detection\\lib\\site-packages\\xgboost\\sklearn.py\", line 1137, in _create_dmatrix\n",
      "    return QuantileDMatrix(\n",
      "  File \"c:\\Users\\phoen\\anaconda3\\envs\\chest-cancer-detection\\lib\\site-packages\\xgboost\\core.py\", line 729, in inner_f\n",
      "    return func(**kwargs)\n",
      "  File \"c:\\Users\\phoen\\anaconda3\\envs\\chest-cancer-detection\\lib\\site-packages\\xgboost\\core.py\", line 1614, in __init__\n",
      "    self._init(\n",
      "  File \"c:\\Users\\phoen\\anaconda3\\envs\\chest-cancer-detection\\lib\\site-packages\\xgboost\\core.py\", line 1678, in _init\n",
      "    it.reraise()\n",
      "  File \"c:\\Users\\phoen\\anaconda3\\envs\\chest-cancer-detection\\lib\\site-packages\\xgboost\\core.py\", line 572, in reraise\n",
      "    raise exc  # pylint: disable=raising-bad-type\n",
      "  File \"c:\\Users\\phoen\\anaconda3\\envs\\chest-cancer-detection\\lib\\site-packages\\xgboost\\core.py\", line 553, in _handle_exception\n",
      "    return fn()\n",
      "  File \"c:\\Users\\phoen\\anaconda3\\envs\\chest-cancer-detection\\lib\\site-packages\\xgboost\\core.py\", line 640, in <lambda>\n",
      "    return self._handle_exception(lambda: int(self.next(input_data)), 0)\n",
      "  File \"c:\\Users\\phoen\\anaconda3\\envs\\chest-cancer-detection\\lib\\site-packages\\xgboost\\data.py\", line 1654, in next\n",
      "    input_data(**self.kwargs)\n",
      "  File \"c:\\Users\\phoen\\anaconda3\\envs\\chest-cancer-detection\\lib\\site-packages\\xgboost\\core.py\", line 729, in inner_f\n",
      "    return func(**kwargs)\n",
      "  File \"c:\\Users\\phoen\\anaconda3\\envs\\chest-cancer-detection\\lib\\site-packages\\xgboost\\core.py\", line 629, in input_data\n",
      "    self.proxy.set_info(\n",
      "  File \"c:\\Users\\phoen\\anaconda3\\envs\\chest-cancer-detection\\lib\\site-packages\\xgboost\\core.py\", line 729, in inner_f\n",
      "    return func(**kwargs)\n",
      "  File \"c:\\Users\\phoen\\anaconda3\\envs\\chest-cancer-detection\\lib\\site-packages\\xgboost\\core.py\", line 961, in set_info\n",
      "    self.set_label(label)\n",
      "  File \"c:\\Users\\phoen\\anaconda3\\envs\\chest-cancer-detection\\lib\\site-packages\\xgboost\\core.py\", line 1099, in set_label\n",
      "    dispatch_meta_backend(self, label, \"label\", \"float\")\n",
      "  File \"c:\\Users\\phoen\\anaconda3\\envs\\chest-cancer-detection\\lib\\site-packages\\xgboost\\data.py\", line 1603, in dispatch_meta_backend\n",
      "    _meta_from_pandas_series(data, name, dtype, handle)\n",
      "  File \"c:\\Users\\phoen\\anaconda3\\envs\\chest-cancer-detection\\lib\\site-packages\\xgboost\\data.py\", line 713, in _meta_from_pandas_series\n",
      "    _meta_from_numpy(data, name, dtype, handle)\n",
      "  File \"c:\\Users\\phoen\\anaconda3\\envs\\chest-cancer-detection\\lib\\site-packages\\xgboost\\data.py\", line 1533, in _meta_from_numpy\n",
      "    _check_call(_LIB.XGDMatrixSetInfoFromInterface(handle, c_str(field), interface_str))\n",
      "  File \"c:\\Users\\phoen\\anaconda3\\envs\\chest-cancer-detection\\lib\\site-packages\\xgboost\\core.py\", line 310, in _check_call\n",
      "    raise XGBoostError(py_str(_LIB.XGBGetLastError()))\n",
      "xgboost.core.XGBoostError: [17:32:20] C:\\actions-runner\\_work\\xgboost\\xgboost\\src\\data\\array_interface.cu:44: Check failed: err == cudaGetLastError() (0 vs. 46) : \n",
      "\n",
      "  warnings.warn(some_fits_failed_message, FitFailedWarning)\n",
      "c:\\Users\\phoen\\anaconda3\\envs\\chest-cancer-detection\\lib\\site-packages\\sklearn\\model_selection\\_search.py:1135: UserWarning: One or more of the test scores are non-finite: [          nan           nan           nan           nan           nan\n",
      "           nan -416.63410536 -449.02218302 -413.98448724 -420.91400059\n",
      " -423.13724492 -447.91664244 -421.60124874 -428.11295584 -441.93167228\n",
      " -420.98017898 -577.28144806 -420.99582655 -421.77439058 -412.92770382\n",
      " -666.47938627 -485.28771786 -428.63874994 -430.80095315 -434.42333355\n",
      " -416.13773844 -533.35347464 -412.27197363 -493.81130589 -416.76872204]\n",
      "  warnings.warn(\n"
     ]
    },
    {
     "name": "stdout",
     "output_type": "stream",
     "text": [
      "✅ Best Hyperparameters Found!\n",
      "{'subsample': 0.8, 'reg_lambda': 2, 'reg_alpha': 0.1, 'n_estimators': 500, 'max_depth': 7, 'learning_rate': 0.05, 'gamma': 0, 'colsample_bytree': 0.6}\n"
     ]
    },
    {
     "ename": "ValueError",
     "evalue": "One of max or min must be given",
     "output_type": "error",
     "traceback": [
      "\u001b[1;31m---------------------------------------------------------------------------\u001b[0m",
      "\u001b[1;31mValueError\u001b[0m                                Traceback (most recent call last)",
      "Cell \u001b[1;32mIn[9], line 5\u001b[0m\n\u001b[0;32m      2\u001b[0m best_model, best_params \u001b[38;5;241m=\u001b[39m get_best_hyperparameters(X_train, y_train)\n\u001b[0;32m      4\u001b[0m \u001b[38;5;66;03m# Predict on test features\u001b[39;00m\n\u001b[1;32m----> 5\u001b[0m test_df[\u001b[38;5;124m\"\u001b[39m\u001b[38;5;124msales\u001b[39m\u001b[38;5;124m\"\u001b[39m] \u001b[38;5;241m=\u001b[39m \u001b[43mbest_model\u001b[49m\u001b[38;5;241;43m.\u001b[39;49m\u001b[43mpredict\u001b[49m\u001b[43m(\u001b[49m\u001b[43mtest_features\u001b[49m\u001b[43m)\u001b[49m\u001b[38;5;241;43m.\u001b[39;49m\u001b[43mclip\u001b[49m\u001b[43m(\u001b[49m\u001b[43mlower\u001b[49m\u001b[38;5;241;43m=\u001b[39;49m\u001b[38;5;241;43m0\u001b[39;49m\u001b[43m)\u001b[49m\n\u001b[0;32m      6\u001b[0m submission \u001b[38;5;241m=\u001b[39m test_df[[\u001b[38;5;124m\"\u001b[39m\u001b[38;5;124mid\u001b[39m\u001b[38;5;124m\"\u001b[39m, \u001b[38;5;124m\"\u001b[39m\u001b[38;5;124msales\u001b[39m\u001b[38;5;124m\"\u001b[39m]]\n\u001b[0;32m      7\u001b[0m submission\u001b[38;5;241m.\u001b[39mto_csv(\u001b[38;5;124m\"\u001b[39m\u001b[38;5;124msubmission.csv\u001b[39m\u001b[38;5;124m\"\u001b[39m, index\u001b[38;5;241m=\u001b[39m\u001b[38;5;28;01mFalse\u001b[39;00m)\n",
      "File \u001b[1;32mc:\\Users\\phoen\\anaconda3\\envs\\chest-cancer-detection\\lib\\site-packages\\numpy\\core\\_methods.py:128\u001b[0m, in \u001b[0;36m_clip\u001b[1;34m(a, min, max, out, casting, **kwargs)\u001b[0m\n\u001b[0;32m    126\u001b[0m \u001b[38;5;28;01mdef\u001b[39;00m\u001b[38;5;250m \u001b[39m\u001b[38;5;21m_clip\u001b[39m(a, \u001b[38;5;28mmin\u001b[39m\u001b[38;5;241m=\u001b[39m\u001b[38;5;28;01mNone\u001b[39;00m, \u001b[38;5;28mmax\u001b[39m\u001b[38;5;241m=\u001b[39m\u001b[38;5;28;01mNone\u001b[39;00m, out\u001b[38;5;241m=\u001b[39m\u001b[38;5;28;01mNone\u001b[39;00m, \u001b[38;5;241m*\u001b[39m, casting\u001b[38;5;241m=\u001b[39m\u001b[38;5;28;01mNone\u001b[39;00m, \u001b[38;5;241m*\u001b[39m\u001b[38;5;241m*\u001b[39mkwargs):\n\u001b[0;32m    127\u001b[0m     \u001b[38;5;28;01mif\u001b[39;00m \u001b[38;5;28mmin\u001b[39m \u001b[38;5;129;01mis\u001b[39;00m \u001b[38;5;28;01mNone\u001b[39;00m \u001b[38;5;129;01mand\u001b[39;00m \u001b[38;5;28mmax\u001b[39m \u001b[38;5;129;01mis\u001b[39;00m \u001b[38;5;28;01mNone\u001b[39;00m:\n\u001b[1;32m--> 128\u001b[0m         \u001b[38;5;28;01mraise\u001b[39;00m \u001b[38;5;167;01mValueError\u001b[39;00m(\u001b[38;5;124m\"\u001b[39m\u001b[38;5;124mOne of max or min must be given\u001b[39m\u001b[38;5;124m\"\u001b[39m)\n\u001b[0;32m    130\u001b[0m     \u001b[38;5;66;03m# Numpy 1.17.0, 2019-02-24\u001b[39;00m\n\u001b[0;32m    131\u001b[0m     \u001b[38;5;66;03m# This deprecation probably incurs a substantial slowdown for small arrays,\u001b[39;00m\n\u001b[0;32m    132\u001b[0m     \u001b[38;5;66;03m# it will be good to get rid of it.\u001b[39;00m\n\u001b[0;32m    133\u001b[0m     \u001b[38;5;28;01mif\u001b[39;00m \u001b[38;5;129;01mnot\u001b[39;00m _clip_dep_is_byte_swapped(a) \u001b[38;5;129;01mand\u001b[39;00m \u001b[38;5;129;01mnot\u001b[39;00m _clip_dep_is_byte_swapped(out):\n",
      "\u001b[1;31mValueError\u001b[0m: One of max or min must be given"
     ]
    }
   ],
   "source": [
    "# Call hyperparameter tuning\n",
    "best_model, best_params = get_best_hyperparameters(X_train, y_train)\n",
    "\n",
    "# Predict on test features\n",
    "test_df[\"sales\"] = best_model.predict(test_features).clip(lower=0)\n",
    "submission = test_df[[\"id\", \"sales\"]]\n",
    "submission.to_csv(\"submission.csv\", index=False)\n"
   ]
  },
  {
   "cell_type": "code",
   "execution_count": 7,
   "id": "332d9e00",
   "metadata": {},
   "outputs": [
    {
     "name": "stdout",
     "output_type": "stream",
     "text": [
      "✅ submission.csv saved successfully!\n"
     ]
    }
   ],
   "source": [
    "# Predict on test set\n",
    "test_df[\"sales\"] = model.predict(test_features)\n",
    "\n",
    "# Ensure no negative predictions\n",
    "test_df[\"sales\"] = test_df[\"sales\"].clip(lower=0)\n",
    "\n",
    "# Prepare submission\n",
    "submission = test_df[[\"id\", \"sales\"]].copy()\n",
    "submission.to_csv(\"submission.csv\", index=False)\n",
    "print(\"✅ submission.csv saved successfully!\")\n"
   ]
  }
 ],
 "metadata": {
  "kernelspec": {
   "display_name": "chest-cancer-detection",
   "language": "python",
   "name": "python3"
  },
  "language_info": {
   "codemirror_mode": {
    "name": "ipython",
    "version": 3
   },
   "file_extension": ".py",
   "mimetype": "text/x-python",
   "name": "python",
   "nbconvert_exporter": "python",
   "pygments_lexer": "ipython3",
   "version": "3.10.18"
  }
 },
 "nbformat": 4,
 "nbformat_minor": 5
}
